{
 "cells": [
  {
   "cell_type": "markdown",
   "metadata": {},
   "source": [
    "# Testing the implementation of basic ML model with robustness checks"
   ]
  },
  {
   "cell_type": "markdown",
   "metadata": {},
   "source": [
    "## Import model code"
   ]
  },
  {
   "cell_type": "code",
   "execution_count": 1,
   "metadata": {},
   "outputs": [
    {
     "name": "stdout",
     "output_type": "stream",
     "text": [
      "Dockerfile             \u001b[1m\u001b[36mmodels\u001b[m\u001b[m                 run_modern_march.py\r\n",
      "LICENSE                \u001b[1m\u001b[36mnbs\u001b[m\u001b[m                    run_original_march.py\r\n",
      "Makefile               run.sh                 run_robust_basic_ml.py\r\n",
      "README.md              run_alternative_ml.py  \u001b[1m\u001b[36mutils\u001b[m\u001b[m\r\n",
      "\u001b[1m\u001b[36mdata\u001b[m\u001b[m                   run_basic_ml.py\r\n",
      "install.sh             run_extended_ml.py\r\n"
     ]
    }
   ],
   "source": [
    "!ls .."
   ]
  },
  {
   "cell_type": "code",
   "execution_count": 2,
   "metadata": {},
   "outputs": [
    {
     "name": "stdout",
     "output_type": "stream",
     "text": [
      "ln: ./models: File exists\r\n"
     ]
    }
   ],
   "source": [
    "!ln -s ../models/"
   ]
  },
  {
   "cell_type": "code",
   "execution_count": 3,
   "metadata": {},
   "outputs": [
    {
     "name": "stdout",
     "output_type": "stream",
     "text": [
      "ln: ./utils: File exists\r\n"
     ]
    }
   ],
   "source": [
    "!ln -s ../utils/"
   ]
  },
  {
   "cell_type": "code",
   "execution_count": 4,
   "metadata": {},
   "outputs": [
    {
     "name": "stdout",
     "output_type": "stream",
     "text": [
      "01_Data_Preparation.ipynb      05_Robust_Basic_ML_Model.ipynb\r\n",
      "02_Dissimilarity_Metric.ipynb  \u001b[1m\u001b[36mimg\u001b[m\u001b[m\r\n",
      "03_Basic_ML_Model.ipynb        \u001b[35mmodels\u001b[m\u001b[m\r\n",
      "04_Alternative_ML_Model.ipynb  \u001b[35mutils\u001b[m\u001b[m\r\n"
     ]
    }
   ],
   "source": [
    "!ls"
   ]
  },
  {
   "cell_type": "code",
   "execution_count": 5,
   "metadata": {},
   "outputs": [],
   "source": [
    "from models.robust_basic_ml import RobustBasicMLModel"
   ]
  },
  {
   "cell_type": "markdown",
   "metadata": {},
   "source": [
    "## Create simple model"
   ]
  },
  {
   "cell_type": "code",
   "execution_count": 8,
   "metadata": {},
   "outputs": [],
   "source": [
    "model = RobustBasicMLModel(\n",
    "    num_humans=10,\n",
    "    num_ml=10,\n",
    "    num_bad_ml=5,\n",
    "    belief_dims=20,\n",
    "    p_1=0.1,\n",
    "    p_2=0.9,\n",
    "    p_3=0.9,\n",
    "    p_h1=0.1,\n",
    "    p_h2=0.5,\n",
    "    p_ml=0.8,\n",
    "    p_ml_bad=0.2,\n",
    ")"
   ]
  },
  {
   "cell_type": "code",
   "execution_count": 10,
   "metadata": {},
   "outputs": [],
   "source": [
    "def print_model(model):\n",
    "    print(\"MODEL CONFIGURATION\")\n",
    "    print(model.conf)\n",
    "    print(\"MODEL AGENTS\")\n",
    "    for a in model.schedule.agents:\n",
    "        print(f\"{a.unique_id}, kl={a.kl}, state={a.state}\")"
   ]
  },
  {
   "cell_type": "code",
   "execution_count": 11,
   "metadata": {},
   "outputs": [
    {
     "name": "stdout",
     "output_type": "stream",
     "text": [
      "MODEL CONFIGURATION\n",
      "{'num_humans': 10, 'num_ml': 10, 'num_bad_ml': 5, 'belief_dims': 20, 'p_1': 0.1, 'p_2': 0.9, 'p_3': 0.9, 'p_h1': 0.1, 'p_h2': 0.5, 'p_ml': 0.8, 'p_ml_bad': 0.2, 'ml_dims': [9, 4, 0, 3, 2, 13, 16, 6, 15, 11]}\n",
      "MODEL AGENTS\n",
      "R1, kl=1.0, state=[ 1  1  1 -1 -1  1 -1 -1  1  1  1 -1  1  1 -1  1  1  1  1 -1]\n",
      "O1, kl=0.0, state=[0 0 0 0 0 0 0 0 0 0 0 0 0 0 0 0 0 0 0 0]\n",
      "H1, kl=0.35, state=[ 1  1  0  1  0  0  1  0 -1 -1 -1  0  1 -1  1  1  1 -1  1 -1]\n",
      "H2, kl=0.2, state=[ 1 -1 -1  1  1  0 -1  1  0 -1 -1  1  0  1  0 -1 -1  0  0 -1]\n",
      "H3, kl=0.4, state=[-1  0  1  1 -1 -1 -1  1  1 -1  1  0  0  1  0  0  1 -1 -1 -1]\n",
      "H4, kl=0.4, state=[-1 -1 -1  0  0  1  0 -1  1  1  0 -1 -1 -1  1 -1 -1  1  1 -1]\n",
      "H5, kl=0.4, state=[-1  0 -1  1  1  1 -1 -1 -1 -1 -1 -1  1  0  1  0 -1  1  1 -1]\n",
      "H6, kl=0.35, state=[-1  0 -1 -1  0 -1  1  0  1  0  1 -1  1 -1  1  0  0  0  1 -1]\n",
      "H7, kl=0.35, state=[ 0  1 -1  1  0 -1  1  1 -1  1  1 -1  1  0 -1  0 -1  1  0  0]\n",
      "H8, kl=0.35, state=[ 0  1  1  0  1 -1  0  0  1 -1  0 -1  1  0 -1 -1  1  0  0  1]\n",
      "H9, kl=0.25, state=[-1  1  1 -1  1 -1  0  1  1 -1  0  0  0 -1  1  1  0 -1 -1  1]\n",
      "H10, kl=0.15, state=[ 0  0 -1  1  0  1  1  0 -1  0  0  0  1 -1  1  0 -1 -1  1  1]\n",
      "ML9, kl=1.0, state={'dim': 9, 'val': 1}\n",
      "ML4, kl=0.0, state={'dim': 4, 'val': 1}\n",
      "ML0, kl=1.0, state={'dim': 0, 'val': 1}\n",
      "ML3, kl=0.0, state={'dim': 3, 'val': 1}\n",
      "ML2, kl=1.0, state={'dim': 2, 'val': 1}\n",
      "ML13, kl=1.0, state={'dim': 13, 'val': 1}\n",
      "ML16, kl=1.0, state={'dim': 16, 'val': 1}\n",
      "ML6, kl=1.0, state={'dim': 6, 'val': -1}\n",
      "ML15, kl=0.0, state={'dim': 15, 'val': -1}\n",
      "ML11, kl=1.0, state={'dim': 11, 'val': -1}\n"
     ]
    }
   ],
   "source": [
    "print_model(model)"
   ]
  },
  {
   "cell_type": "code",
   "execution_count": 12,
   "metadata": {},
   "outputs": [
    {
     "data": {
      "text/plain": [
       "[<models.robust_basic_ml.Reality at 0x11e2c6b10>,\n",
       " <models.robust_basic_ml.OrganizationalCode at 0x11e2c6b90>,\n",
       " <models.robust_basic_ml.Human at 0x11e2c6bd0>,\n",
       " <models.robust_basic_ml.Human at 0x11e2c6c50>,\n",
       " <models.robust_basic_ml.Human at 0x11e2c6cd0>,\n",
       " <models.robust_basic_ml.Human at 0x11e2c6d90>,\n",
       " <models.robust_basic_ml.Human at 0x11e2c6b50>,\n",
       " <models.robust_basic_ml.Human at 0x11e2c6dd0>,\n",
       " <models.robust_basic_ml.Human at 0x11e2c6e90>,\n",
       " <models.robust_basic_ml.Human at 0x11e2c6f10>,\n",
       " <models.robust_basic_ml.Human at 0x11e2c6f90>,\n",
       " <models.robust_basic_ml.Human at 0x11e2cd050>,\n",
       " <models.robust_basic_ml.MLAgent at 0x11e2cd0d0>,\n",
       " <models.robust_basic_ml.MLAgent at 0x11e2cd150>,\n",
       " <models.robust_basic_ml.MLAgent at 0x11e2cd1d0>,\n",
       " <models.robust_basic_ml.MLAgent at 0x11e2cd250>,\n",
       " <models.robust_basic_ml.MLAgent at 0x11e2cd2d0>,\n",
       " <models.robust_basic_ml.MLAgent at 0x11e2cd350>,\n",
       " <models.robust_basic_ml.MLAgent at 0x11e2cd3d0>,\n",
       " <models.robust_basic_ml.MLAgent at 0x11e2cd450>,\n",
       " <models.robust_basic_ml.MLAgent at 0x11e2cd4d0>,\n",
       " <models.robust_basic_ml.MLAgent at 0x11e2cd550>]"
      ]
     },
     "execution_count": 12,
     "metadata": {},
     "output_type": "execute_result"
    }
   ],
   "source": [
    "model.schedule.agents"
   ]
  },
  {
   "cell_type": "code",
   "execution_count": null,
   "metadata": {},
   "outputs": [],
   "source": []
  }
 ],
 "metadata": {
  "kernelspec": {
   "display_name": "Python 3",
   "language": "python",
   "name": "python3"
  },
  "language_info": {
   "codemirror_mode": {
    "name": "ipython",
    "version": 3
   },
   "file_extension": ".py",
   "mimetype": "text/x-python",
   "name": "python",
   "nbconvert_exporter": "python",
   "pygments_lexer": "ipython3",
   "version": "3.7.4"
  },
  "toc": {
   "base_numbering": 1,
   "nav_menu": {},
   "number_sections": true,
   "sideBar": true,
   "skip_h1_title": true,
   "title_cell": "Table of Contents",
   "title_sidebar": "Contents",
   "toc_cell": false,
   "toc_position": {},
   "toc_section_display": true,
   "toc_window_display": false
  }
 },
 "nbformat": 4,
 "nbformat_minor": 2
}
