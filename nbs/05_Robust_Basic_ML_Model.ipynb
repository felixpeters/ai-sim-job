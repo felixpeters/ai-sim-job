{
 "cells": [
  {
   "cell_type": "markdown",
   "metadata": {},
   "source": [
    "# Testing the implementation of basic ML model with robustness checks"
   ]
  },
  {
   "cell_type": "markdown",
   "metadata": {},
   "source": [
    "## Import model code"
   ]
  },
  {
   "cell_type": "code",
   "execution_count": 1,
   "metadata": {},
   "outputs": [
    {
     "name": "stdout",
     "output_type": "stream",
     "text": [
      "Dockerfile             \u001b[1m\u001b[36mmodels\u001b[m\u001b[m                 run_modern_march.py\r\n",
      "LICENSE                \u001b[1m\u001b[36mnbs\u001b[m\u001b[m                    run_original_march.py\r\n",
      "Makefile               run.sh                 run_robust_basic_ml.py\r\n",
      "README.md              run_alternative_ml.py  \u001b[1m\u001b[36mutils\u001b[m\u001b[m\r\n",
      "\u001b[1m\u001b[36mdata\u001b[m\u001b[m                   run_basic_ml.py\r\n",
      "install.sh             run_extended_ml.py\r\n"
     ]
    }
   ],
   "source": [
    "!ls .."
   ]
  },
  {
   "cell_type": "code",
   "execution_count": 2,
   "metadata": {},
   "outputs": [
    {
     "name": "stdout",
     "output_type": "stream",
     "text": [
      "ln: ./models: File exists\r\n"
     ]
    }
   ],
   "source": [
    "!ln -s ../models/"
   ]
  },
  {
   "cell_type": "code",
   "execution_count": 3,
   "metadata": {},
   "outputs": [
    {
     "name": "stdout",
     "output_type": "stream",
     "text": [
      "ln: ./utils: File exists\r\n"
     ]
    }
   ],
   "source": [
    "!ln -s ../utils/"
   ]
  },
  {
   "cell_type": "code",
   "execution_count": 4,
   "metadata": {},
   "outputs": [
    {
     "name": "stdout",
     "output_type": "stream",
     "text": [
      "ln: ./data: File exists\r\n"
     ]
    }
   ],
   "source": [
    "!ln -s ../data/"
   ]
  },
  {
   "cell_type": "code",
   "execution_count": 5,
   "metadata": {},
   "outputs": [
    {
     "name": "stdout",
     "output_type": "stream",
     "text": [
      "01_Data_Preparation.ipynb      \u001b[35mdata\u001b[m\u001b[m\r\n",
      "02_Dissimilarity_Metric.ipynb  \u001b[1m\u001b[36mimg\u001b[m\u001b[m\r\n",
      "03_Basic_ML_Model.ipynb        \u001b[35mmodels\u001b[m\u001b[m\r\n",
      "04_Alternative_ML_Model.ipynb  \u001b[35mutils\u001b[m\u001b[m\r\n",
      "05_Robust_Basic_ML_Model.ipynb\r\n"
     ]
    }
   ],
   "source": [
    "!ls"
   ]
  },
  {
   "cell_type": "code",
   "execution_count": 6,
   "metadata": {},
   "outputs": [],
   "source": [
    "from models.robust_basic_ml import RobustBasicMLModel"
   ]
  },
  {
   "cell_type": "markdown",
   "metadata": {},
   "source": [
    "## Create simple model"
   ]
  },
  {
   "cell_type": "code",
   "execution_count": 7,
   "metadata": {},
   "outputs": [],
   "source": [
    "model = RobustBasicMLModel(\n",
    "    num_humans=10,\n",
    "    num_ml=10,\n",
    "    perc_bad_ml=0.35,\n",
    "    belief_dims=20,\n",
    "    p_1=0.1,\n",
    "    p_2=0.9,\n",
    "    p_3=0.9,\n",
    "    p_h1=0.1,\n",
    "    p_h2=0.5,\n",
    "    p_ml=0.8,\n",
    "    p_ml_bad=0.2,\n",
    ")"
   ]
  },
  {
   "cell_type": "code",
   "execution_count": 8,
   "metadata": {},
   "outputs": [],
   "source": [
    "def print_model(model):\n",
    "    print(\"MODEL CONFIGURATION\")\n",
    "    print(model.conf)\n",
    "    print(\"MODEL AGENTS\")\n",
    "    for a in model.schedule.agents:\n",
    "        print(f\"{a.unique_id}, kl={a.kl}, state={a.state}\")"
   ]
  },
  {
   "cell_type": "code",
   "execution_count": 9,
   "metadata": {},
   "outputs": [
    {
     "name": "stdout",
     "output_type": "stream",
     "text": [
      "MODEL CONFIGURATION\n",
      "{'num_humans': 10, 'num_ml': 10, 'perc_bad_ml': 0.35, 'num_bad_ml': 3, 'belief_dims': 20, 'p_1': 0.1, 'p_2': 0.9, 'p_3': 0.9, 'p_h1': 0.1, 'p_h2': 0.5, 'p_ml': 0.8, 'p_ml_bad': 0.2, 'p_human_cf': 0.5, 'p_org_cf': 0.5, 'ml_dims': [17, 6, 0, 2, 11, 18, 13, 14, 5, 19]}\n",
      "MODEL AGENTS\n",
      "R1, kl=1.0, state=[ 1  1 -1 -1  1 -1  1 -1  1  1  1 -1  1  1  1  1 -1  1  1 -1]\n",
      "O1, kl=0.0, state=[0 0 0 0 0 0 0 0 0 0 0 0 0 0 0 0 0 0 0 0]\n",
      "H1, kl=0.4, state=[ 1  1  0  1 -1  0  1 -1 -1  1 -1 -1  1 -1 -1 -1  0  0  0 -1]\n",
      "H2, kl=0.4, state=[ 1  0 -1 -1  0 -1  0  0  1 -1 -1 -1 -1  0  0  0 -1  1 -1  1]\n",
      "H3, kl=0.2, state=[-1  1  0 -1 -1  0  1  1 -1  0 -1  0  1  0 -1 -1  1 -1  0  0]\n",
      "H4, kl=0.25, state=[ 0  0  0  1  1  0  1  1  0  0  1  0  1  0 -1  0  1  1 -1  1]\n",
      "H5, kl=0.2, state=[-1  0 -1  1  1  1 -1  1 -1  0 -1  0  0 -1  0 -1 -1  1  0  0]\n",
      "H6, kl=0.2, state=[ 1 -1  1  1 -1  0 -1  0 -1 -1  1  1  0  1  0  0  0  0  1  1]\n",
      "H7, kl=0.3, state=[ 1  0  1 -1 -1  0  1  1  0  1  1  1  0  1  0 -1  0 -1  0  0]\n",
      "H8, kl=0.55, state=[ 0 -1  0 -1  1  0  1  0  1  1  0 -1  1  1  1  0  0  1 -1 -1]\n",
      "H9, kl=0.5, state=[ 0  1  1  0  1  1  0  0  1  1  1  1  1 -1  0  1 -1  1  1  0]\n",
      "H10, kl=0.35, state=[-1  0  0  1  1  1  0  0  0  0  1 -1  1  0  1  1  0  0  1  1]\n",
      "ML17, kl=0.0, state={'dim': 17, 'val': -1}\n",
      "ML6, kl=0.0, state={'dim': 6, 'val': -1}\n",
      "ML0, kl=1.0, state={'dim': 0, 'val': 1}\n",
      "ML2, kl=0.0, state={'dim': 2, 'val': 1}\n",
      "ML11, kl=1.0, state={'dim': 11, 'val': -1}\n",
      "ML18, kl=0.0, state={'dim': 18, 'val': -1}\n",
      "ML13, kl=0.0, state={'dim': 13, 'val': -1}\n",
      "ML14, kl=1.0, state={'dim': 14, 'val': 1}\n",
      "ML5, kl=1.0, state={'dim': 5, 'val': -1}\n",
      "ML19, kl=0.0, state={'dim': 19, 'val': 1}\n"
     ]
    }
   ],
   "source": [
    "print_model(model)"
   ]
  },
  {
   "cell_type": "code",
   "execution_count": 10,
   "metadata": {},
   "outputs": [
    {
     "name": "stdout",
     "output_type": "stream",
     "text": [
      "0.8\n",
      "0.8\n",
      "0.8\n",
      "0.8\n",
      "0.8\n",
      "0.8\n",
      "0.8\n",
      "0.2\n",
      "0.2\n",
      "0.2\n"
     ]
    }
   ],
   "source": [
    "for a in model.schedule.agents[(2+model.conf[\"num_humans\"]):]:\n",
    "    print(a.p_ml)"
   ]
  },
  {
   "cell_type": "code",
   "execution_count": 11,
   "metadata": {},
   "outputs": [],
   "source": [
    "import pandas as pd"
   ]
  },
  {
   "cell_type": "code",
   "execution_count": 12,
   "metadata": {},
   "outputs": [
    {
     "data": {
      "text/html": [
       "<div>\n",
       "<style scoped>\n",
       "    .dataframe tbody tr th:only-of-type {\n",
       "        vertical-align: middle;\n",
       "    }\n",
       "\n",
       "    .dataframe tbody tr th {\n",
       "        vertical-align: top;\n",
       "    }\n",
       "\n",
       "    .dataframe thead th {\n",
       "        text-align: right;\n",
       "    }\n",
       "</style>\n",
       "<table border=\"1\" class=\"dataframe\">\n",
       "  <thead>\n",
       "    <tr style=\"text-align: right;\">\n",
       "      <th></th>\n",
       "      <th>0</th>\n",
       "      <th>1</th>\n",
       "      <th>2</th>\n",
       "      <th>3</th>\n",
       "      <th>4</th>\n",
       "      <th>5</th>\n",
       "      <th>6</th>\n",
       "      <th>7</th>\n",
       "      <th>8</th>\n",
       "      <th>9</th>\n",
       "    </tr>\n",
       "  </thead>\n",
       "  <tbody>\n",
       "    <tr>\n",
       "      <td>config</td>\n",
       "      <td>1.0000</td>\n",
       "      <td>2.0000</td>\n",
       "      <td>3.0000</td>\n",
       "      <td>4.0000</td>\n",
       "      <td>5.0000</td>\n",
       "      <td>6.0000</td>\n",
       "      <td>7.0000</td>\n",
       "      <td>8.0000</td>\n",
       "      <td>9.0000</td>\n",
       "      <td>10.0000</td>\n",
       "    </tr>\n",
       "    <tr>\n",
       "      <td>belief_dims</td>\n",
       "      <td>30.0000</td>\n",
       "      <td>30.0000</td>\n",
       "      <td>30.0000</td>\n",
       "      <td>30.0000</td>\n",
       "      <td>30.0000</td>\n",
       "      <td>30.0000</td>\n",
       "      <td>30.0000</td>\n",
       "      <td>30.0000</td>\n",
       "      <td>30.0000</td>\n",
       "      <td>30.0000</td>\n",
       "    </tr>\n",
       "    <tr>\n",
       "      <td>num_humans</td>\n",
       "      <td>50.0000</td>\n",
       "      <td>50.0000</td>\n",
       "      <td>50.0000</td>\n",
       "      <td>50.0000</td>\n",
       "      <td>50.0000</td>\n",
       "      <td>50.0000</td>\n",
       "      <td>50.0000</td>\n",
       "      <td>50.0000</td>\n",
       "      <td>50.0000</td>\n",
       "      <td>50.0000</td>\n",
       "    </tr>\n",
       "    <tr>\n",
       "      <td>num_ml</td>\n",
       "      <td>15.0000</td>\n",
       "      <td>15.0000</td>\n",
       "      <td>15.0000</td>\n",
       "      <td>15.0000</td>\n",
       "      <td>15.0000</td>\n",
       "      <td>15.0000</td>\n",
       "      <td>15.0000</td>\n",
       "      <td>15.0000</td>\n",
       "      <td>15.0000</td>\n",
       "      <td>15.0000</td>\n",
       "    </tr>\n",
       "    <tr>\n",
       "      <td>num_bad_ml</td>\n",
       "      <td>3.0000</td>\n",
       "      <td>3.0000</td>\n",
       "      <td>3.0000</td>\n",
       "      <td>3.0000</td>\n",
       "      <td>3.0000</td>\n",
       "      <td>3.0000</td>\n",
       "      <td>3.0000</td>\n",
       "      <td>3.0000</td>\n",
       "      <td>3.0000</td>\n",
       "      <td>3.0000</td>\n",
       "    </tr>\n",
       "    <tr>\n",
       "      <td>perc_bad_ml</td>\n",
       "      <td>0.2000</td>\n",
       "      <td>0.2000</td>\n",
       "      <td>0.2000</td>\n",
       "      <td>0.2000</td>\n",
       "      <td>0.2000</td>\n",
       "      <td>0.2000</td>\n",
       "      <td>0.2000</td>\n",
       "      <td>0.2000</td>\n",
       "      <td>0.2000</td>\n",
       "      <td>0.2000</td>\n",
       "    </tr>\n",
       "    <tr>\n",
       "      <td>p_1</td>\n",
       "      <td>0.1000</td>\n",
       "      <td>0.1000</td>\n",
       "      <td>0.1000</td>\n",
       "      <td>0.1000</td>\n",
       "      <td>0.1000</td>\n",
       "      <td>0.1000</td>\n",
       "      <td>0.1000</td>\n",
       "      <td>0.1000</td>\n",
       "      <td>0.1000</td>\n",
       "      <td>0.5000</td>\n",
       "    </tr>\n",
       "    <tr>\n",
       "      <td>p_2</td>\n",
       "      <td>0.1000</td>\n",
       "      <td>0.1000</td>\n",
       "      <td>0.1000</td>\n",
       "      <td>0.5000</td>\n",
       "      <td>0.5000</td>\n",
       "      <td>0.5000</td>\n",
       "      <td>0.9000</td>\n",
       "      <td>0.9000</td>\n",
       "      <td>0.9000</td>\n",
       "      <td>0.1000</td>\n",
       "    </tr>\n",
       "    <tr>\n",
       "      <td>p_3</td>\n",
       "      <td>0.1000</td>\n",
       "      <td>0.5000</td>\n",
       "      <td>0.9000</td>\n",
       "      <td>0.1000</td>\n",
       "      <td>0.5000</td>\n",
       "      <td>0.9000</td>\n",
       "      <td>0.1000</td>\n",
       "      <td>0.5000</td>\n",
       "      <td>0.9000</td>\n",
       "      <td>0.1000</td>\n",
       "    </tr>\n",
       "    <tr>\n",
       "      <td>p_h1</td>\n",
       "      <td>0.1000</td>\n",
       "      <td>0.1000</td>\n",
       "      <td>0.1000</td>\n",
       "      <td>0.1000</td>\n",
       "      <td>0.1000</td>\n",
       "      <td>0.1000</td>\n",
       "      <td>0.1000</td>\n",
       "      <td>0.1000</td>\n",
       "      <td>0.1000</td>\n",
       "      <td>0.1000</td>\n",
       "    </tr>\n",
       "    <tr>\n",
       "      <td>p_h2</td>\n",
       "      <td>0.5000</td>\n",
       "      <td>0.5000</td>\n",
       "      <td>0.5000</td>\n",
       "      <td>0.5000</td>\n",
       "      <td>0.5000</td>\n",
       "      <td>0.5000</td>\n",
       "      <td>0.5000</td>\n",
       "      <td>0.5000</td>\n",
       "      <td>0.5000</td>\n",
       "      <td>0.5000</td>\n",
       "    </tr>\n",
       "    <tr>\n",
       "      <td>p_ml</td>\n",
       "      <td>0.8000</td>\n",
       "      <td>0.8000</td>\n",
       "      <td>0.8000</td>\n",
       "      <td>0.8000</td>\n",
       "      <td>0.8000</td>\n",
       "      <td>0.8000</td>\n",
       "      <td>0.8000</td>\n",
       "      <td>0.8000</td>\n",
       "      <td>0.8000</td>\n",
       "      <td>0.8000</td>\n",
       "    </tr>\n",
       "    <tr>\n",
       "      <td>p_ml_bad</td>\n",
       "      <td>0.2000</td>\n",
       "      <td>0.2000</td>\n",
       "      <td>0.2000</td>\n",
       "      <td>0.2000</td>\n",
       "      <td>0.2000</td>\n",
       "      <td>0.2000</td>\n",
       "      <td>0.2000</td>\n",
       "      <td>0.2000</td>\n",
       "      <td>0.2000</td>\n",
       "      <td>0.2000</td>\n",
       "    </tr>\n",
       "    <tr>\n",
       "      <td>p_human_cf</td>\n",
       "      <td>0.5000</td>\n",
       "      <td>0.5000</td>\n",
       "      <td>0.5000</td>\n",
       "      <td>0.5000</td>\n",
       "      <td>0.5000</td>\n",
       "      <td>0.5000</td>\n",
       "      <td>0.5000</td>\n",
       "      <td>0.5000</td>\n",
       "      <td>0.5000</td>\n",
       "      <td>0.5000</td>\n",
       "    </tr>\n",
       "    <tr>\n",
       "      <td>p_org_cf</td>\n",
       "      <td>0.5000</td>\n",
       "      <td>0.5000</td>\n",
       "      <td>0.5000</td>\n",
       "      <td>0.5000</td>\n",
       "      <td>0.5000</td>\n",
       "      <td>0.5000</td>\n",
       "      <td>0.5000</td>\n",
       "      <td>0.5000</td>\n",
       "      <td>0.5000</td>\n",
       "      <td>0.5000</td>\n",
       "    </tr>\n",
       "    <tr>\n",
       "      <td>code_kl_max</td>\n",
       "      <td>0.8667</td>\n",
       "      <td>0.8667</td>\n",
       "      <td>0.9000</td>\n",
       "      <td>0.9166</td>\n",
       "      <td>0.9166</td>\n",
       "      <td>0.8834</td>\n",
       "      <td>0.9333</td>\n",
       "      <td>0.9166</td>\n",
       "      <td>0.9333</td>\n",
       "      <td>0.7333</td>\n",
       "    </tr>\n",
       "    <tr>\n",
       "      <td>code_kl_last</td>\n",
       "      <td>0.8000</td>\n",
       "      <td>0.8167</td>\n",
       "      <td>0.8333</td>\n",
       "      <td>0.9166</td>\n",
       "      <td>0.8666</td>\n",
       "      <td>0.7834</td>\n",
       "      <td>0.8834</td>\n",
       "      <td>0.8834</td>\n",
       "      <td>0.8334</td>\n",
       "      <td>0.7000</td>\n",
       "    </tr>\n",
       "    <tr>\n",
       "      <td>human_kl_max</td>\n",
       "      <td>0.6657</td>\n",
       "      <td>0.6514</td>\n",
       "      <td>0.6797</td>\n",
       "      <td>0.6884</td>\n",
       "      <td>0.6726</td>\n",
       "      <td>0.6760</td>\n",
       "      <td>0.7024</td>\n",
       "      <td>0.6884</td>\n",
       "      <td>0.6784</td>\n",
       "      <td>0.6924</td>\n",
       "    </tr>\n",
       "    <tr>\n",
       "      <td>human_kl_last</td>\n",
       "      <td>0.6560</td>\n",
       "      <td>0.6380</td>\n",
       "      <td>0.6663</td>\n",
       "      <td>0.6853</td>\n",
       "      <td>0.6704</td>\n",
       "      <td>0.6760</td>\n",
       "      <td>0.6897</td>\n",
       "      <td>0.6860</td>\n",
       "      <td>0.6573</td>\n",
       "      <td>0.6670</td>\n",
       "    </tr>\n",
       "    <tr>\n",
       "      <td>human_kl_var_max</td>\n",
       "      <td>0.0098</td>\n",
       "      <td>0.0086</td>\n",
       "      <td>0.0088</td>\n",
       "      <td>0.0092</td>\n",
       "      <td>0.0099</td>\n",
       "      <td>0.0105</td>\n",
       "      <td>0.0105</td>\n",
       "      <td>0.0096</td>\n",
       "      <td>0.0096</td>\n",
       "      <td>0.0075</td>\n",
       "    </tr>\n",
       "    <tr>\n",
       "      <td>human_kl_var_last</td>\n",
       "      <td>0.0082</td>\n",
       "      <td>0.0071</td>\n",
       "      <td>0.0058</td>\n",
       "      <td>0.0066</td>\n",
       "      <td>0.0068</td>\n",
       "      <td>0.0072</td>\n",
       "      <td>0.0080</td>\n",
       "      <td>0.0072</td>\n",
       "      <td>0.0054</td>\n",
       "      <td>0.0028</td>\n",
       "    </tr>\n",
       "    <tr>\n",
       "      <td>code_kl_std</td>\n",
       "      <td>0.0000</td>\n",
       "      <td>0.0235</td>\n",
       "      <td>0.0000</td>\n",
       "      <td>0.0235</td>\n",
       "      <td>0.0472</td>\n",
       "      <td>0.0235</td>\n",
       "      <td>0.1179</td>\n",
       "      <td>0.0235</td>\n",
       "      <td>0.0943</td>\n",
       "      <td>0.0471</td>\n",
       "    </tr>\n",
       "    <tr>\n",
       "      <td>human_kl_std</td>\n",
       "      <td>0.0188</td>\n",
       "      <td>0.0339</td>\n",
       "      <td>0.0410</td>\n",
       "      <td>0.0057</td>\n",
       "      <td>0.0165</td>\n",
       "      <td>0.0018</td>\n",
       "      <td>0.0269</td>\n",
       "      <td>0.0103</td>\n",
       "      <td>0.0141</td>\n",
       "      <td>0.0184</td>\n",
       "    </tr>\n",
       "    <tr>\n",
       "      <td>human_kl_dissim_max</td>\n",
       "      <td>0.6643</td>\n",
       "      <td>0.6675</td>\n",
       "      <td>0.6676</td>\n",
       "      <td>0.6662</td>\n",
       "      <td>0.6678</td>\n",
       "      <td>0.6651</td>\n",
       "      <td>0.6666</td>\n",
       "      <td>0.6658</td>\n",
       "      <td>0.6666</td>\n",
       "      <td>0.6664</td>\n",
       "    </tr>\n",
       "    <tr>\n",
       "      <td>human_kl_dissim_last</td>\n",
       "      <td>0.4116</td>\n",
       "      <td>0.4105</td>\n",
       "      <td>0.4159</td>\n",
       "      <td>0.4066</td>\n",
       "      <td>0.4166</td>\n",
       "      <td>0.4074</td>\n",
       "      <td>0.4025</td>\n",
       "      <td>0.4064</td>\n",
       "      <td>0.4242</td>\n",
       "      <td>0.1790</td>\n",
       "    </tr>\n",
       "  </tbody>\n",
       "</table>\n",
       "</div>"
      ],
      "text/plain": [
       "                            0        1        2        3        4        5  \\\n",
       "config                 1.0000   2.0000   3.0000   4.0000   5.0000   6.0000   \n",
       "belief_dims           30.0000  30.0000  30.0000  30.0000  30.0000  30.0000   \n",
       "num_humans            50.0000  50.0000  50.0000  50.0000  50.0000  50.0000   \n",
       "num_ml                15.0000  15.0000  15.0000  15.0000  15.0000  15.0000   \n",
       "num_bad_ml             3.0000   3.0000   3.0000   3.0000   3.0000   3.0000   \n",
       "perc_bad_ml            0.2000   0.2000   0.2000   0.2000   0.2000   0.2000   \n",
       "p_1                    0.1000   0.1000   0.1000   0.1000   0.1000   0.1000   \n",
       "p_2                    0.1000   0.1000   0.1000   0.5000   0.5000   0.5000   \n",
       "p_3                    0.1000   0.5000   0.9000   0.1000   0.5000   0.9000   \n",
       "p_h1                   0.1000   0.1000   0.1000   0.1000   0.1000   0.1000   \n",
       "p_h2                   0.5000   0.5000   0.5000   0.5000   0.5000   0.5000   \n",
       "p_ml                   0.8000   0.8000   0.8000   0.8000   0.8000   0.8000   \n",
       "p_ml_bad               0.2000   0.2000   0.2000   0.2000   0.2000   0.2000   \n",
       "p_human_cf             0.5000   0.5000   0.5000   0.5000   0.5000   0.5000   \n",
       "p_org_cf               0.5000   0.5000   0.5000   0.5000   0.5000   0.5000   \n",
       "code_kl_max            0.8667   0.8667   0.9000   0.9166   0.9166   0.8834   \n",
       "code_kl_last           0.8000   0.8167   0.8333   0.9166   0.8666   0.7834   \n",
       "human_kl_max           0.6657   0.6514   0.6797   0.6884   0.6726   0.6760   \n",
       "human_kl_last          0.6560   0.6380   0.6663   0.6853   0.6704   0.6760   \n",
       "human_kl_var_max       0.0098   0.0086   0.0088   0.0092   0.0099   0.0105   \n",
       "human_kl_var_last      0.0082   0.0071   0.0058   0.0066   0.0068   0.0072   \n",
       "code_kl_std            0.0000   0.0235   0.0000   0.0235   0.0472   0.0235   \n",
       "human_kl_std           0.0188   0.0339   0.0410   0.0057   0.0165   0.0018   \n",
       "human_kl_dissim_max    0.6643   0.6675   0.6676   0.6662   0.6678   0.6651   \n",
       "human_kl_dissim_last   0.4116   0.4105   0.4159   0.4066   0.4166   0.4074   \n",
       "\n",
       "                            6        7        8        9  \n",
       "config                 7.0000   8.0000   9.0000  10.0000  \n",
       "belief_dims           30.0000  30.0000  30.0000  30.0000  \n",
       "num_humans            50.0000  50.0000  50.0000  50.0000  \n",
       "num_ml                15.0000  15.0000  15.0000  15.0000  \n",
       "num_bad_ml             3.0000   3.0000   3.0000   3.0000  \n",
       "perc_bad_ml            0.2000   0.2000   0.2000   0.2000  \n",
       "p_1                    0.1000   0.1000   0.1000   0.5000  \n",
       "p_2                    0.9000   0.9000   0.9000   0.1000  \n",
       "p_3                    0.1000   0.5000   0.9000   0.1000  \n",
       "p_h1                   0.1000   0.1000   0.1000   0.1000  \n",
       "p_h2                   0.5000   0.5000   0.5000   0.5000  \n",
       "p_ml                   0.8000   0.8000   0.8000   0.8000  \n",
       "p_ml_bad               0.2000   0.2000   0.2000   0.2000  \n",
       "p_human_cf             0.5000   0.5000   0.5000   0.5000  \n",
       "p_org_cf               0.5000   0.5000   0.5000   0.5000  \n",
       "code_kl_max            0.9333   0.9166   0.9333   0.7333  \n",
       "code_kl_last           0.8834   0.8834   0.8334   0.7000  \n",
       "human_kl_max           0.7024   0.6884   0.6784   0.6924  \n",
       "human_kl_last          0.6897   0.6860   0.6573   0.6670  \n",
       "human_kl_var_max       0.0105   0.0096   0.0096   0.0075  \n",
       "human_kl_var_last      0.0080   0.0072   0.0054   0.0028  \n",
       "code_kl_std            0.1179   0.0235   0.0943   0.0471  \n",
       "human_kl_std           0.0269   0.0103   0.0141   0.0184  \n",
       "human_kl_dissim_max    0.6666   0.6658   0.6666   0.6664  \n",
       "human_kl_dissim_last   0.4025   0.4064   0.4242   0.1790  "
      ]
     },
     "execution_count": 12,
     "metadata": {},
     "output_type": "execute_result"
    }
   ],
   "source": [
    "data = pd.read_csv(\"data/robust_ml_agg_20200402-134520.csv\")\n",
    "data.head(10).transpose()"
   ]
  },
  {
   "cell_type": "code",
   "execution_count": 13,
   "metadata": {},
   "outputs": [],
   "source": [
    "import matplotlib.pyplot as plt"
   ]
  },
  {
   "cell_type": "code",
   "execution_count": 17,
   "metadata": {},
   "outputs": [
    {
     "data": {
      "text/plain": [
       "<matplotlib.axes._subplots.AxesSubplot at 0x11a3d3050>"
      ]
     },
     "execution_count": 17,
     "metadata": {},
     "output_type": "execute_result"
    },
    {
     "data": {
      "image/png": "[encoded data removed]",
      "text/plain": [
       "<Figure size 432x288 with 1 Axes>"
      ]
     },
     "metadata": {
      "needs_background": "light"
     },
     "output_type": "display_data"
    }
   ],
   "source": [
    "data.groupby('perc_bad_ml').median()['code_kl_last'].plot()"
   ]
  },
  {
   "cell_type": "code",
   "execution_count": 18,
   "metadata": {},
   "outputs": [
    {
     "data": {
      "text/plain": [
       "[<matplotlib.lines.Line2D at 0x11a4c0510>]"
      ]
     },
     "execution_count": 18,
     "metadata": {},
     "output_type": "execute_result"
    },
    {
     "data": {
      "image/png": "[encoded data removed]",
      "text/plain": [
       "<Figure size 432x288 with 1 Axes>"
      ]
     },
     "metadata": {
      "needs_background": "light"
     },
     "output_type": "display_data"
    }
   ],
   "source": [
    "plt.plot(data.perc_bad_ml, data.code_kl_last, 'r.')"
   ]
  }
 ],
 "metadata": {
  "kernelspec": {
   "display_name": "Python 3",
   "language": "python",
   "name": "python3"
  },
  "language_info": {
   "codemirror_mode": {
    "name": "ipython",
    "version": 3
   },
   "file_extension": ".py",
   "mimetype": "text/x-python",
   "name": "python",
   "nbconvert_exporter": "python",
   "pygments_lexer": "ipython3",
   "version": "3.7.4"
  },
  "toc": {
   "base_numbering": 1,
   "nav_menu": {},
   "number_sections": true,
   "sideBar": true,
   "skip_h1_title": true,
   "title_cell": "Table of Contents",
   "title_sidebar": "Contents",
   "toc_cell": false,
   "toc_position": {},
   "toc_section_display": true,
   "toc_window_display": false
  }
 },
 "nbformat": 4,
 "nbformat_minor": 2
}
